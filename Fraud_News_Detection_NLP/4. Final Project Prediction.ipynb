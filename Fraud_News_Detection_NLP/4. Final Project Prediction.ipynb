{
 "cells": [
  {
   "cell_type": "code",
   "execution_count": 2,
   "metadata": {},
   "outputs": [
    {
     "name": "stdout",
     "output_type": "stream",
     "text": [
      "Collecting pymysql\n",
      "  Using cached PyMySQL-1.0.2-py3-none-any.whl (43 kB)\n",
      "Installing collected packages: pymysql\n",
      "Successfully installed pymysql-1.0.2\n",
      "Note: you may need to restart the kernel to use updated packages.\n"
     ]
    }
   ],
   "source": [
    "pip install pymysql # for replication in new test environments"
   ]
  },
  {
   "cell_type": "markdown",
   "metadata": {},
   "source": [
    "## Run the block of code and after asked, share your news title, author, article"
   ]
  },
  {
   "cell_type": "code",
   "execution_count": 6,
   "metadata": {},
   "outputs": [
    {
     "name": "stdout",
     "output_type": "stream",
     "text": [
      "Please enter the name of author:\n",
      "April Hunt\n",
      "Please enter the artical title:\n",
      "Emory senior Ahmed Aljohani awarded prestigious Rhodes Scholarship\n",
      "Please enter the artical text:\n",
      "Emory University senior Ahmed Aljohani has been awarded the prestigious 2022 Rhodes Scholarship, which provides all expenses for two or three years of study at the University of Oxford in England.  Aljohani, a biology major in Emory College of Arts and Sciences and a native of Saudi Arabia, is among an international group of Rhodes Scholars who join more than 100 scholars selected to begin study next fall. He is Emory’s 21st recipient of the award and the university’s first selected from Saudi Arabia.  “I never imagined such an honor. I don’t think I would have been accepted to the Rhodes without being so well rounded,” Aljohani says. “I owe that to Emory, for being a place to explore yourself and develop skills as a full person. That is essential in this world.”  Aljohani exemplifies the traits of a Rhodes Scholar — chosen for academic excellence as well as commitment to making a positive impact on the world — through both leadership on campus and his deep ecology research with postdoctoral fellow Kandis Adams in the lab of Emory biologist Jaap de Roode.  At Oxford, he will pursue a doctorate in biology. He then plans to pursue a second PhD at King Abdullah University of Science and Technology (KAUST), with a focus on identifying how coral reefs in the north Red Sea near his home are resisting climate change. Understanding how those reefs are not stressed by rises in sea temperature could further protect them as well as save coral reefs globally.  “With his superb academic achievements and community engagement, Ahmed embodies excellence in all that he has accomplished here at Emory,” says Emory President Gregory L. Fenves.  “Being named a Rhodes Scholar, Ahmed has shown what is possible through the power of an exceptional undergraduate education, and I know that he will represent Emory at the very highest level as he continues his studies at the University of Oxford.  “I join the entire Emory community in expressing our great pride and excitement for what his future holds,” Fenves says.  Research and communication  At Emory, Aljohani focused much of his energy on becoming a better scientist, both through coursework and research that includes co-authoring a 2021 paper on the effect of plant chemicals on immunity in monarch butterflies.  He is now working on his honors thesis, examining whether circadian rhythms affect the butterflies’ disease risk. The research requires the commitment to conduct the round-the-clock measurements and the ability to build a framework to look at the organism internally and in interaction with its environment, says de Roode.  “What I find interesting about Ahmed is he is interested in marine biology and climate change, yet doing research on monarch butterfly immunity,” de Roode says. “It shows that he understands that building research skills and the ability to frame questions and hypotheses is more important than focusing on a particular study system. He has clearly thought a lot about science and how it can answer important questions in the big picture.”  Part of that interest in the big picture drew Aljohani to assistant film professor David Barba’s digital filmmaking class. Aljohani had been learning some stop-motion animation on his own but was curious about how he might turn his ideas about saving the reefs into videos that could sway public opinion and policy.  He stood out for his work ethic and his curiosity, both critical elements to developing creative voice, Barba says. Then he applied those production skills in a more advanced course on writing for short film, again engaging how he might best share his future research.  “His qualifications as a scientist are abundantly clear, and I like that he is thinking of science as something that impacts people on a daily basis,” Barba says. “I think he will be a great creator and documentary collaborator down the road.”  Collaboration and community  Collaboration, both in finding and providing support, has been key to succeeding at Emory, Aljohani says. He first suspected he would find that at Emory when he visited, alone, on a Wonderful Wednesday.  Students who noticed his visitor’s badge immediately asked if he had questions. They showed him around campus, including a tour of a first-year residence hall.  Still, he was overwhelmed when he first arrived as a first-year student fresh from a crash course in English. The Academic Fellow program, which provides incoming international students with student mentors, made him feel so at home that he joined as a mentor.  He is now a captain in the program, which exposed him to students from around the globe who, like him, were struck by the diversity on campus and in metro Atlanta.  The Muslim Student Association, which he now co-leads, had a similarly broad membership that went beyond the Arab community he knew best.  “How Emory encourages you to explore your interests is what makes it such welcoming place,” Aljohani says. “Being surrounded by people who have a different perspective on life is very enlightening and very beneficial to your progress. I believe if you focus on using that to be the best at whatever you’re doing, opportunities will open for you.”\n",
      "good news!\n",
      "Data Added to the Table Successfully!\n"
     ]
    },
    {
     "name": "stderr",
     "output_type": "stream",
     "text": [
      "/var/folders/50/y6x0nd9x4z132jyt97tw796w0000gp/T/ipykernel_23451/3753924222.py:32: FutureWarning: elementwise comparison failed; returning scalar instead, but in the future will perform elementwise comparison\n",
      "  if tempY == '1':\n"
     ]
    }
   ],
   "source": [
    "import numpy as np\n",
    "import pandas as pd\n",
    "from sklearn.feature_extraction.text import TfidfVectorizer\n",
    "from sklearn.ensemble import RandomForestClassifier\n",
    "import itertools\n",
    "import pickle\n",
    "import pymysql\n",
    "from sqlalchemy import create_engine\n",
    "from datetime import datetime\n",
    "# load the model from disk\n",
    "clf = pickle.load(open('randomForest_model.sav', 'rb'))\n",
    "Tfidmodel = pickle.load(open('Tfidmodel.sav', 'rb'))\n",
    "\n",
    "\n",
    "tempAuthor = input(\"Please enter the name of author:\\n\")\n",
    "tempTitle = input(\"Please enter the artical title:\\n\")\n",
    "tempText = input(\"Please enter the artical text:\\n\")\n",
    "tempList = []\n",
    "tempList.append(tempAuthor+' '+tempTitle+' '+tempText)\n",
    "\n",
    "# Tfidf transformation to inputdata\n",
    "tempX = Tfidmodel.transform(tempList)\n",
    "tempY = clf.predict(tempX)\n",
    "tempYprob = clf.predict_proba(tempX)\n",
    "\n",
    "db = pymysql.connect(host='fakenews3.ch8lvxaws3z2.us-east-1.rds.amazonaws.com',user='admin',password='!QAZ2wsx',database ='fakenews',charset='utf8mb4',cursorclass=pymysql.cursors.DictCursor)\n",
    "cursor = db.cursor()\n",
    "cursor.connection.commit()\n",
    "\n",
    "now=datetime.now().strftime(\"%Y/%m/%d %H:%M:%S\")\n",
    "\n",
    "if tempY == '1':\n",
    "    print (\"fake news!!\")\n",
    "else :\n",
    "    print (\"good news!\")\n",
    "\n",
    "try:\n",
    "    sql = '''insert into fakenews(id, author, title, text, prediction,created_time) values(NULL,'%s','%s','%s', '%s','%s')''' % (tempAuthor, tempTitle, tempText,str(tempY[0]),now)\n",
    "    cursor.execute(sql)\n",
    "    db.commit()\n",
    "    print( \"Data Added to the Table Successfully!\")\n",
    "except Exception as e:\n",
    "    print(e)"
   ]
  },
  {
   "cell_type": "markdown",
   "metadata": {},
   "source": [
    "## Decoding the results.\n",
    "For verfied news, the code will return \"good news !\"\n",
    "\n",
    "For fake news, the code will return \"fake news !!!\""
   ]
  }
 ],
 "metadata": {
  "kernelspec": {
   "display_name": "Python 3 (ipykernel)",
   "language": "python",
   "name": "python3"
  },
  "language_info": {
   "codemirror_mode": {
    "name": "ipython",
    "version": 3
   },
   "file_extension": ".py",
   "mimetype": "text/x-python",
   "name": "python",
   "nbconvert_exporter": "python",
   "pygments_lexer": "ipython3",
   "version": "3.8.12"
  }
 },
 "nbformat": 4,
 "nbformat_minor": 4
}
